{
 "cells": [
  {
   "cell_type": "code",
   "execution_count": 1,
   "metadata": {
    "collapsed": true
   },
   "outputs": [],
   "source": [
    "from load_team_data import *"
   ]
  },
  {
   "cell_type": "code",
   "execution_count": 2,
   "metadata": {
    "collapsed": false
   },
   "outputs": [
    {
     "name": "stdout",
     "output_type": "stream",
     "text": [
      "Parsed 3728 movies from 3728 files\n",
      "Parsed 4767 movies from 4767 files\n"
     ]
    }
   ],
   "source": [
    "boxofficemovies = get_movies('boxofficemojo')\n",
    "unclean_metamovies = get_movies('metacritic')\n",
    "metamovies = [movie for movie in unclean_metamovies if type(movie) != list]\n",
    "metamovies = clean_data(metamovies)"
   ]
  },
  {
   "cell_type": "code",
   "execution_count": 6,
   "metadata": {
    "collapsed": false
   },
   "outputs": [],
   "source": [
    "meta_df = pd.DataFrame(metamovies)"
   ]
  },
  {
   "cell_type": "code",
   "execution_count": 8,
   "metadata": {
    "collapsed": false
   },
   "outputs": [
    {
     "data": {
      "text/plain": [
       "Index([            u'complete',             u'director',\n",
       "                      u'genre',              u'genre_1',\n",
       "                   u'genre_10',              u'genre_2',\n",
       "                    u'genre_3',              u'genre_4',\n",
       "                    u'genre_5',              u'genre_6',\n",
       "                    u'genre_7',              u'genre_8',\n",
       "                    u'genre_9',      u'metacritic_page',\n",
       "                  u'metascore', u'num_critic_reviews_1',\n",
       "       u'num_critic_reviews_2', u'num_critic_reviews_3',\n",
       "       u'num_critic_reviews_4',     u'num_user_ratings',\n",
       "         u'num_user_reviews_1',   u'num_user_reviews_2',\n",
       "         u'num_user_reviews_3',   u'num_user_reviews_4',\n",
       "                     u'rating',         u'release_date',\n",
       "            u'runtime_minutes',               u'studio',\n",
       "                      u'title', u'unable to retrieve_1',\n",
       "       u'unable to retrieve_2',           u'user_score',\n",
       "                       u'year'],\n",
       "      dtype='object')"
      ]
     },
     "execution_count": 8,
     "metadata": {},
     "output_type": "execute_result"
    }
   ],
   "source": [
    "meta_df.columns"
   ]
  },
  {
   "cell_type": "code",
   "execution_count": 10,
   "metadata": {
    "collapsed": false
   },
   "outputs": [
    {
     "data": {
      "text/plain": [
       "0        NaN\n",
       "1        NaN\n",
       "2        NaN\n",
       "3        NaN\n",
       "4        NaN\n",
       "5        NaN\n",
       "6        NaN\n",
       "7        NaN\n",
       "8        NaN\n",
       "9        NaN\n",
       "10       NaN\n",
       "11       NaN\n",
       "12       NaN\n",
       "13       NaN\n",
       "14       NaN\n",
       "15       NaN\n",
       "16       NaN\n",
       "17       NaN\n",
       "18       NaN\n",
       "19       NaN\n",
       "20       NaN\n",
       "21       NaN\n",
       "22       NaN\n",
       "23       NaN\n",
       "24       NaN\n",
       "25       NaN\n",
       "26       NaN\n",
       "27       NaN\n",
       "28       NaN\n",
       "29       NaN\n",
       "        ... \n",
       "71417    NaN\n",
       "71418    NaN\n",
       "71419    NaN\n",
       "71420    NaN\n",
       "71421    NaN\n",
       "71422    NaN\n",
       "71423    NaN\n",
       "71424    NaN\n",
       "71425    NaN\n",
       "71426    NaN\n",
       "71427    NaN\n",
       "71428    NaN\n",
       "71429    NaN\n",
       "71430    NaN\n",
       "71431    NaN\n",
       "71432    NaN\n",
       "71433    NaN\n",
       "71434    NaN\n",
       "71435    NaN\n",
       "71436    NaN\n",
       "71437    NaN\n",
       "71438    NaN\n",
       "71439    NaN\n",
       "71440    NaN\n",
       "71441    NaN\n",
       "71442    NaN\n",
       "71443    NaN\n",
       "71444    NaN\n",
       "71445    NaN\n",
       "71446    NaN\n",
       "Name: genre, dtype: object"
      ]
     },
     "execution_count": 10,
     "metadata": {},
     "output_type": "execute_result"
    }
   ],
   "source": [
    "meta_df['genre']"
   ]
  },
  {
   "cell_type": "code",
   "execution_count": null,
   "metadata": {
    "collapsed": true
   },
   "outputs": [],
   "source": []
  }
 ],
 "metadata": {
  "kernelspec": {
   "display_name": "Python 2",
   "language": "python",
   "name": "python2"
  },
  "language_info": {
   "codemirror_mode": {
    "name": "ipython",
    "version": 2
   },
   "file_extension": ".py",
   "mimetype": "text/x-python",
   "name": "python",
   "nbconvert_exporter": "python",
   "pygments_lexer": "ipython2",
   "version": "2.7.11"
  }
 },
 "nbformat": 4,
 "nbformat_minor": 0
}
