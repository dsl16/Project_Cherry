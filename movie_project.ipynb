{
 "cells": [
  {
   "cell_type": "code",
   "execution_count": 1,
   "metadata": {
    "collapsed": true
   },
   "outputs": [],
   "source": [
    "from load_team_data import *"
   ]
  },
  {
   "cell_type": "code",
   "execution_count": 2,
   "metadata": {
    "collapsed": false
   },
   "outputs": [
    {
     "name": "stdout",
     "output_type": "stream",
     "text": [
      "Parsed 3728 movies from 3728 files\n",
      "Parsed 4767 movies from 4767 files\n"
     ]
    }
   ],
   "source": [
    "boxofficemovies = get_movies('boxofficemojo')\n",
    "unclean_metamovies = get_movies('metacritic')\n",
    "metamovies = [movie for movie in unclean_metamovies if type(movie) != list]\n",
    "metamovies = clean_data(metamovies)"
   ]
  },
  {
   "cell_type": "code",
   "execution_count": 3,
   "metadata": {
    "collapsed": false
   },
   "outputs": [],
   "source": [
    "meta_df = pd.DataFrame(metamovies)\n",
    "mojo_df = pd.DataFrame(boxofficemovies)"
   ]
  },
  {
   "cell_type": "code",
   "execution_count": 4,
   "metadata": {
    "collapsed": false
   },
   "outputs": [
    {
     "data": {
      "text/plain": [
       "Index([            u'complete',             u'director',\n",
       "                      u'genre',              u'genre_1',\n",
       "                   u'genre_10',              u'genre_2',\n",
       "                    u'genre_3',              u'genre_4',\n",
       "                    u'genre_5',              u'genre_6',\n",
       "                    u'genre_7',              u'genre_8',\n",
       "                    u'genre_9',      u'metacritic_page',\n",
       "                  u'metascore', u'num_critic_reviews_1',\n",
       "       u'num_critic_reviews_2', u'num_critic_reviews_3',\n",
       "       u'num_critic_reviews_4',     u'num_user_ratings',\n",
       "         u'num_user_reviews_1',   u'num_user_reviews_2',\n",
       "         u'num_user_reviews_3',   u'num_user_reviews_4',\n",
       "                     u'rating',         u'release_date',\n",
       "            u'runtime_minutes',               u'studio',\n",
       "                      u'title', u'unable to retrieve_1',\n",
       "       u'unable to retrieve_2',           u'user_score',\n",
       "                       u'year'],\n",
       "      dtype='object')"
      ]
     },
     "execution_count": 4,
     "metadata": {},
     "output_type": "execute_result"
    }
   ],
   "source": [
    "meta_df.columns"
   ]
  },
  {
   "cell_type": "code",
   "execution_count": 5,
   "metadata": {
    "collapsed": false
   },
   "outputs": [
    {
     "data": {
      "text/plain": [
       "Index([u'alt_title', u'director', u'domestic_gross', u'mojo_slug',\n",
       "       u'opening_per_theater', u'opening_weekend_take', u'production_budget',\n",
       "       u'release_date_limited', u'release_date_wide', u'title',\n",
       "       u'widest_release', u'worldwide_gross', u'year'],\n",
       "      dtype='object')"
      ]
     },
     "execution_count": 5,
     "metadata": {},
     "output_type": "execute_result"
    }
   ],
   "source": [
    "mojo_df.columns"
   ]
  },
  {
   "cell_type": "code",
   "execution_count": 6,
   "metadata": {
    "collapsed": false
   },
   "outputs": [
    {
     "data": {
      "text/html": [
       "<div>\n",
       "<table border=\"1\" class=\"dataframe\">\n",
       "  <thead>\n",
       "    <tr style=\"text-align: right;\">\n",
       "      <th></th>\n",
       "      <th>metascore</th>\n",
       "      <th>num_critic_reviews_1</th>\n",
       "      <th>num_critic_reviews_2</th>\n",
       "      <th>num_critic_reviews_3</th>\n",
       "      <th>num_critic_reviews_4</th>\n",
       "      <th>num_user_ratings</th>\n",
       "      <th>num_user_reviews_1</th>\n",
       "      <th>num_user_reviews_2</th>\n",
       "      <th>num_user_reviews_3</th>\n",
       "      <th>num_user_reviews_4</th>\n",
       "      <th>runtime_minutes</th>\n",
       "    </tr>\n",
       "  </thead>\n",
       "  <tbody>\n",
       "    <tr>\n",
       "      <th>count</th>\n",
       "      <td>4588.000000</td>\n",
       "      <td>4763.000000</td>\n",
       "      <td>4763.000000</td>\n",
       "      <td>4763.000000</td>\n",
       "      <td>4763.000000</td>\n",
       "      <td>4481.000000</td>\n",
       "      <td>4763.000000</td>\n",
       "      <td>4763.000000</td>\n",
       "      <td>4763.000000</td>\n",
       "      <td>4763.000000</td>\n",
       "      <td>4668.000000</td>\n",
       "    </tr>\n",
       "    <tr>\n",
       "      <th>mean</th>\n",
       "      <td>57.116609</td>\n",
       "      <td>12.705858</td>\n",
       "      <td>7.547974</td>\n",
       "      <td>3.461264</td>\n",
       "      <td>23.715096</td>\n",
       "      <td>129.285427</td>\n",
       "      <td>28.364056</td>\n",
       "      <td>4.244384</td>\n",
       "      <td>8.188747</td>\n",
       "      <td>40.797187</td>\n",
       "      <td>107.144602</td>\n",
       "    </tr>\n",
       "    <tr>\n",
       "      <th>std</th>\n",
       "      <td>18.625394</td>\n",
       "      <td>10.573624</td>\n",
       "      <td>5.780708</td>\n",
       "      <td>4.631793</td>\n",
       "      <td>11.289036</td>\n",
       "      <td>235.792480</td>\n",
       "      <td>57.553953</td>\n",
       "      <td>8.053652</td>\n",
       "      <td>17.264740</td>\n",
       "      <td>76.697845</td>\n",
       "      <td>20.142600</td>\n",
       "    </tr>\n",
       "    <tr>\n",
       "      <th>min</th>\n",
       "      <td>1.000000</td>\n",
       "      <td>0.000000</td>\n",
       "      <td>0.000000</td>\n",
       "      <td>0.000000</td>\n",
       "      <td>0.000000</td>\n",
       "      <td>4.000000</td>\n",
       "      <td>0.000000</td>\n",
       "      <td>0.000000</td>\n",
       "      <td>0.000000</td>\n",
       "      <td>1.000000</td>\n",
       "      <td>40.000000</td>\n",
       "    </tr>\n",
       "    <tr>\n",
       "      <th>25%</th>\n",
       "      <td>44.000000</td>\n",
       "      <td>4.000000</td>\n",
       "      <td>3.000000</td>\n",
       "      <td>0.000000</td>\n",
       "      <td>15.000000</td>\n",
       "      <td>21.000000</td>\n",
       "      <td>3.000000</td>\n",
       "      <td>0.000000</td>\n",
       "      <td>0.000000</td>\n",
       "      <td>4.000000</td>\n",
       "      <td>93.000000</td>\n",
       "    </tr>\n",
       "    <tr>\n",
       "      <th>50%</th>\n",
       "      <td>58.000000</td>\n",
       "      <td>10.000000</td>\n",
       "      <td>6.000000</td>\n",
       "      <td>1.000000</td>\n",
       "      <td>25.000000</td>\n",
       "      <td>56.000000</td>\n",
       "      <td>10.000000</td>\n",
       "      <td>1.000000</td>\n",
       "      <td>2.000000</td>\n",
       "      <td>16.000000</td>\n",
       "      <td>103.000000</td>\n",
       "    </tr>\n",
       "    <tr>\n",
       "      <th>75%</th>\n",
       "      <td>71.000000</td>\n",
       "      <td>20.000000</td>\n",
       "      <td>11.000000</td>\n",
       "      <td>5.000000</td>\n",
       "      <td>33.000000</td>\n",
       "      <td>136.000000</td>\n",
       "      <td>29.000000</td>\n",
       "      <td>5.000000</td>\n",
       "      <td>8.000000</td>\n",
       "      <td>44.000000</td>\n",
       "      <td>117.000000</td>\n",
       "    </tr>\n",
       "    <tr>\n",
       "      <th>max</th>\n",
       "      <td>100.000000</td>\n",
       "      <td>50.000000</td>\n",
       "      <td>31.000000</td>\n",
       "      <td>30.000000</td>\n",
       "      <td>50.000000</td>\n",
       "      <td>4002.000000</td>\n",
       "      <td>1028.000000</td>\n",
       "      <td>130.000000</td>\n",
       "      <td>269.000000</td>\n",
       "      <td>1197.000000</td>\n",
       "      <td>325.000000</td>\n",
       "    </tr>\n",
       "  </tbody>\n",
       "</table>\n",
       "</div>"
      ],
      "text/plain": [
       "         metascore  num_critic_reviews_1  num_critic_reviews_2  \\\n",
       "count  4588.000000           4763.000000           4763.000000   \n",
       "mean     57.116609             12.705858              7.547974   \n",
       "std      18.625394             10.573624              5.780708   \n",
       "min       1.000000              0.000000              0.000000   \n",
       "25%      44.000000              4.000000              3.000000   \n",
       "50%      58.000000             10.000000              6.000000   \n",
       "75%      71.000000             20.000000             11.000000   \n",
       "max     100.000000             50.000000             31.000000   \n",
       "\n",
       "       num_critic_reviews_3  num_critic_reviews_4  num_user_ratings  \\\n",
       "count           4763.000000           4763.000000       4481.000000   \n",
       "mean               3.461264             23.715096        129.285427   \n",
       "std                4.631793             11.289036        235.792480   \n",
       "min                0.000000              0.000000          4.000000   \n",
       "25%                0.000000             15.000000         21.000000   \n",
       "50%                1.000000             25.000000         56.000000   \n",
       "75%                5.000000             33.000000        136.000000   \n",
       "max               30.000000             50.000000       4002.000000   \n",
       "\n",
       "       num_user_reviews_1  num_user_reviews_2  num_user_reviews_3  \\\n",
       "count         4763.000000         4763.000000         4763.000000   \n",
       "mean            28.364056            4.244384            8.188747   \n",
       "std             57.553953            8.053652           17.264740   \n",
       "min              0.000000            0.000000            0.000000   \n",
       "25%              3.000000            0.000000            0.000000   \n",
       "50%             10.000000            1.000000            2.000000   \n",
       "75%             29.000000            5.000000            8.000000   \n",
       "max           1028.000000          130.000000          269.000000   \n",
       "\n",
       "       num_user_reviews_4  runtime_minutes  \n",
       "count         4763.000000      4668.000000  \n",
       "mean            40.797187       107.144602  \n",
       "std             76.697845        20.142600  \n",
       "min              1.000000        40.000000  \n",
       "25%              4.000000        93.000000  \n",
       "50%             16.000000       103.000000  \n",
       "75%             44.000000       117.000000  \n",
       "max           1197.000000       325.000000  "
      ]
     },
     "execution_count": 6,
     "metadata": {},
     "output_type": "execute_result"
    }
   ],
   "source": [
    "meta_df.describe()"
   ]
  },
  {
   "cell_type": "code",
   "execution_count": 7,
   "metadata": {
    "collapsed": false
   },
   "outputs": [
    {
     "data": {
      "text/plain": [
       "(4765, 33)"
      ]
     },
     "execution_count": 7,
     "metadata": {},
     "output_type": "execute_result"
    }
   ],
   "source": [
    "meta_df.shape"
   ]
  },
  {
   "cell_type": "code",
   "execution_count": null,
   "metadata": {
    "collapsed": true
   },
   "outputs": [],
   "source": []
  }
 ],
 "metadata": {
  "kernelspec": {
   "display_name": "Python 2",
   "language": "python",
   "name": "python2"
  },
  "language_info": {
   "codemirror_mode": {
    "name": "ipython",
    "version": 2
   },
   "file_extension": ".py",
   "mimetype": "text/x-python",
   "name": "python",
   "nbconvert_exporter": "python",
   "pygments_lexer": "ipython2",
   "version": "2.7.11"
  }
 },
 "nbformat": 4,
 "nbformat_minor": 0
}
